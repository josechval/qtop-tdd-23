{
 "cells": [
  {
   "cell_type": "markdown",
   "metadata": {},
   "source": [
    "# Introducción a *JUnit*."
   ]
  },
  {
   "cell_type": "markdown",
   "metadata": {},
   "source": [
    "[*JUnit*](https://junit.org/junit5/) es la herramienta más utilizada para realizar pruebas de aplicaciones en Java. \n",
    "\n",
    "La versión más reciente es *JUnit 5*, la cual fue publicada en 2017.\n",
    "\n",
    "La documentación de *JUnit 5* puede ser consultada desde:\n",
    "\n",
    "https://junit.org/junit5/docs/current/user-guide/"
   ]
  },
  {
   "cell_type": "markdown",
   "metadata": {},
   "source": [
    "## *JUnit 5*.\n",
    "\n",
    "* Apegado a *Java 9*.\n",
    "* Modular.\n",
    "* Extensible.\n",
    "* Integración.\n",
    "* Compatible con *JUnit 4*."
   ]
  },
  {
   "cell_type": "markdown",
   "metadata": {},
   "source": [
    "### Componentes.\n",
    "\n",
    "Esta herramienta tiene las siguientes características: \n",
    "\n",
    "* **JUnit Platform**. la cual contiene los componentes principales de *Junit 5*.\n",
    "* **JUnit Jupiter**. Contiene el modelo de programación y de extensión de *JUnit 5*.\n",
    "* **JUnit Vintage**. Permite la compatibilidad con código de *JUnit 3* y *JUnit 4*.\n"
   ]
  },
  {
   "cell_type": "markdown",
   "metadata": {},
   "source": [
    "## Funcionalidades de *JUnit*."
   ]
  },
  {
   "cell_type": "markdown",
   "metadata": {},
   "source": [
    "*JUnit* proporciona las siguientes características importantes:\n",
    "\n",
    "* *Fixtures*: los cuales describen el estado fijo de un conjunto de objetos utilizados como línea de base para ejecutar pruebas. El propósito de un *fixture* es garantizar que haya un entorno bien conocido y fijo en el que se ejecuten las pruebas para que los resultados sean repetibles.\n",
    "* Conjuntos de pruebas: agrupa algunos casos de prueba de unidad y los ejecuta juntos. Tanto la anotación ```@RunWith``` como ```@Suite``` se utilizan para ejecutar la prueba de la suite.\n",
    "* Ejecutores (*runners*) de prueba: el ejecutor de prueba se utiliza para ejecutar los casos de prueba.\n",
    "* Clases *JUnit*: Las clases *JUnit* son clases importantes, utilizadas para escribir y probar *JUnits*. Algunas de las clases importantes son ```Assert```, ```TestCase```, ```TestResult```."
   ]
  },
  {
   "cell_type": "markdown",
   "metadata": {},
   "source": [
    "## *Assertions*.\n",
    "\n",
    "Los supuestos (*assertions*) son métodos que validan los parámetros que se les ingresan.\n",
    "\n",
    "https://junit.org/junit5/docs/current/api/org.junit.jupiter.api/org/junit/jupiter/api/Assertions.html"
   ]
  },
  {
   "cell_type": "markdown",
   "metadata": {},
   "source": [
    "## Anotaciones."
   ]
  },
  {
   "cell_type": "markdown",
   "metadata": {},
   "source": [
    "*JUnit* define diversas anotaciones para definir métodos que reaslizan ciertas acciones antes, durante y después de la ejecución de pruebas.\n",
    "\n",
    "https://junit.org/junit5/docs/current/user-guide/#writing-tests-annotations"
   ]
  },
  {
   "cell_type": "markdown",
   "metadata": {},
   "source": [
    "### Anotaciones compatibles de *JUnit 4* y *Junit 5*.\n",
    "\n",
    "<table><tbody><tr><th>Funcionalidad</th><th>JUnit 4</th><th>Junit 5</th></tr><tr><td>Declarar un método de prueba</td><td><code>@Test</code></td><td><code>@Test</code></td></tr><tr><td>Ejecutar antes que todos los métodos de prueba en la clase actual</td><td><code>@BeforeClass</code></td><td><code>@BeforeAll</code></td></tr><tr><td>Ejecutar después que todos los métodos de prueba en la clase actual</td><td><code>@AfterClass</code></td><td><code>@AfterAll</code></td></tr><tr><td>Ejecutar antes de cada método de prueba</td><td><code>@Before</code></td><td><code>@BeforeEach</code></td></tr><tr><td>Ejecutar después de cada método de prueba<td><code>@After</code></td><td><code>@AfterEach</code></td></tr><tr><td>Deshabilitar el método de prueba / clase</td><td><code>@Ignore</code></td><td><code>@Disabled</code></td></tr><tr><td>Fábrica de pruebas dinámicas</td><td>NA</td><td><code>@TestFactory</code></td></tr><tr><td>Pruebas anidadas</td><td>NA</td><td><code>@Nested</code></td></tr><tr><td>Etiquetado y filtrado</td><td><code>@Category</code></td><td><code>@Tag</code></td></tr><tr><td>Registro de extensiones a la medida</td><td>NA</td><td><code>@ExtendWith</code></td></tr></tbody></table>"
   ]
  },
  {
   "cell_type": "markdown",
   "metadata": {},
   "source": [
    "## Repositorio de ejemplos de *JUnit*.\n",
    "\n",
    "https://github.com/junit-team/junit5-samples"
   ]
  },
  {
   "cell_type": "markdown",
   "metadata": {},
   "source": [
    "<p style=\"text-align: center\"><a rel=\"license\" href=\"http://creativecommons.org/licenses/by/4.0/\"><img alt=\"Licencia Creative Commons\" style=\"border-width:0\" src=\"https://i.creativecommons.org/l/by/4.0/80x15.png\" /></a><br />Esta obra está bajo una <a rel=\"license\" href=\"http://creativecommons.org/licenses/by/4.0/\">Licencia Creative Commons Atribución 4.0 Internacional</a>.</p>\n",
    "<p style=\"text-align: center\">&copy; José Luis Chiquete Valdivieso. 2023.</p>"
   ]
  }
 ],
 "metadata": {
  "kernelspec": {
   "display_name": "Python 3 (ipykernel)",
   "language": "python",
   "name": "python3"
  },
  "language_info": {
   "codemirror_mode": {
    "name": "ipython",
    "version": 3
   },
   "file_extension": ".py",
   "mimetype": "text/x-python",
   "name": "python",
   "nbconvert_exporter": "python",
   "pygments_lexer": "ipython3",
   "version": "3.10.6"
  }
 },
 "nbformat": 4,
 "nbformat_minor": 2
}
