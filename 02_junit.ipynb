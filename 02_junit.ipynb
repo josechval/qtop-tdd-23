{
 "cells": [
  {
   "cell_type": "markdown",
   "metadata": {},
   "source": [
    "# Introducción a *JUnit*."
   ]
  },
  {
   "cell_type": "markdown",
   "metadata": {},
   "source": [
    "[*JUnit*](https://junit.org/junit5/) es la herramienta más utilizada para realizar pruebas de aplicaciones en Java. \n",
    "\n",
    "La versión más reciente es *JUnit 5*, la cual fue publicada en 2017.\n",
    "\n",
    "La documentación de *JUnit 5* puede ser consultada desde:\n",
    "\n",
    "https://junit.org/junit5/docs/current/user-guide/"
   ]
  },
  {
   "cell_type": "markdown",
   "metadata": {},
   "source": [
    "## *JUnit 5*.\n",
    "\n",
    "* Apegado a *Java 9*.\n",
    "* Modular.\n",
    "* Extensible.\n",
    "* Integración.\n",
    "* Compatible con *JUnit 4*."
   ]
  },
  {
   "cell_type": "markdown",
   "metadata": {},
   "source": [
    "### Componentes.\n",
    "\n",
    "Esta herramienta tiene las siguientes características: \n",
    "\n",
    "* **JUnit Platform**. la cual contiene los componentes principales de *Junit 5*.\n",
    "* **JUnit Jupiter**. Contiene el modelo de programación y de extensión de *JUnit 5*.\n",
    "* **JUnit Vintage**. Permite la compatibilidad con código de *JUnit 3* y *JUnit 4*.\n"
   ]
  },
  {
   "cell_type": "markdown",
   "metadata": {},
   "source": [
    "## Funcionalidades de *JUnit*."
   ]
  },
  {
   "cell_type": "markdown",
   "metadata": {},
   "source": [
    "*JUnit* proporciona las siguientes características importantes:\n",
    "\n",
    "* *Fixtures*: los cuales describen el estado fijo de un conjunto de objetos utilizados como línea de base para ejecutar pruebas. El propósito de un *fixture* es garantizar que haya un entorno bien conocido y fijo en el que se ejecuten las pruebas para que los resultados sean repetibles.\n",
    "* Conjuntos de pruebas: agrupa algunos casos de prueba de unidad y los ejecuta juntos. Tanto la anotación ```@RunWith``` como ```@Suite``` se utilizan para ejecutar la prueba de la suite.\n",
    "* Ejecutores (*runners*) de prueba: el ejecutor de prueba se utiliza para ejecutar los casos de prueba.\n",
    "* Clases *JUnit*: Las clases *JUnit* son clases importantes, utilizadas para escribir y probar *JUnits*. Algunas de las clases importantes son ```Assert```, ```TestCase```, ```TestResult```."
   ]
  },
  {
   "cell_type": "markdown",
   "metadata": {},
   "source": [
    "## *Assertions*.\n",
    "\n",
    "Los supuestos (*assertions*) son métodos que validan los parámetros que se les ingresan.\n",
    "\n",
    "https://junit.org/junit5/docs/current/api/org.junit.jupiter.api/org/junit/jupiter/api/Assertions.html"
   ]
  },
  {
   "cell_type": "markdown",
   "metadata": {},
   "source": [
    "## Anotaciones."
   ]
  },
  {
   "cell_type": "markdown",
   "metadata": {},
   "source": [
    "*JUnit* define diversas anotaciones para definir métodos que reaslizan ciertas acciones antes, durante y después de la ejecución de pruebas.\n",
    "\n",
    "https://junit.org/junit5/docs/current/user-guide/#writing-tests-annotations"
   ]
  },
  {
   "cell_type": "markdown",
   "metadata": {},
   "source": [
    "### Anotaciones compatibles de *JUnit 4* y *Junit 5*.\n",
    "\n",
    "<table><tbody><tr><th>Funcionalidad</th><th>JUnit 4</th><th>Junit 5</th></tr><tr><td>Declarar un método de prueba</td><td><code>@Test</code></td><td><code>@Test</code></td></tr><tr><td>Ejecutar antes que todos los métodos de prueba en la clase actual</td><td><code>@BeforeClass</code></td><td><code>@BeforeAll</code></td></tr><tr><td>Ejecutar después que todos los métodos de prueba en la clase actual</td><td><code>@AfterClass</code></td><td><code>@AfterAll</code></td></tr><tr><td>Ejecutar antes de cada método de prueba</td><td><code>@Before</code></td><td><code>@BeforeEach</code></td></tr><tr><td>Ejecutar después de cada método de prueba<td><code>@After</code></td><td><code>@AfterEach</code></td></tr><tr><td>Deshabilitar el método de prueba / clase</td><td><code>@Ignore</code></td><td><code>@Disabled</code></td></tr><tr><td>Fábrica de pruebas dinámicas</td><td>NA</td><td><code>@TestFactory</code></td></tr><tr><td>Pruebas anidadas</td><td>NA</td><td><code>@Nested</code></td></tr><tr><td>Etiquetado y filtrado</td><td><code>@Category</code></td><td><code>@Tag</code></td></tr><tr><td>Registro de extensiones a la medida</td><td>NA</td><td><code>@ExtendWith</code></td></tr></tbody></table>"
   ]
  },
  {
   "cell_type": "markdown",
   "metadata": {},
   "source": [
    "## Repositorio de ejemplos de *JUnit*.\n",
    "\n",
    "https://github.com/junit-team/junit5-samples"
   ]
  },
  {
   "cell_type": "markdown",
   "metadata": {},
   "source": [
    "## Anotaciones de ```JUnit 5```."
   ]
  },
  {
   "cell_type": "markdown",
   "metadata": {},
   "source": [
    "*JUnit 5* ofrece varias anotaciones para escribir y ejecutar pruebas. Algunas de las principales anotaciones de *JUnit 5* son:\n",
    "\n",
    "* ```@Test```: indica que el método es un caso de prueba.\n",
    "* ```@ParameterizedTest```: indica que el método es un caso de prueba parametrizado que se ejecuta con diferentes argumentos.\n",
    "* ```@RepeatedTest```: indica que el método es un caso de prueba que se repite un número determinado de veces.\n",
    "* ```@TestFactory```: indica que el método es una fábrica de casos de prueba dinámicos.\n",
    "* ```@TestTemplate```: indica que el método es una plantilla de caso de prueba que se puede personalizar con extensiones.\n",
    "* ```@TestMethodOrder```: indica el orden en que se ejecutan los métodos de prueba dentro de una clase.\n",
    "* ```@TestInstance```: indica el ciclo de vida de la instancia de la clase de prueba.\n",
    "* ```@DisplayName```: indica el nombre que se muestra para el método o la clase de prueba.\n",
    "* ```@DisplayNameGeneration```: indica la estrategia para generar los nombres que se muestran para los métodos o las clases de prueba.\n",
    "* ```@BeforeEach```: indica que el método se ejecuta antes de cada caso de prueba.\n",
    "* ```@AfterEach:``` indica que el método se ejecuta después de cada caso de prueba.\n",
    "* ```@BeforeAll```: indica que el método se ejecuta una vez antes de todos los casos de prueba.\n",
    "* ```@AfterAll```: indica que el método se ejecuta una vez después de todos los casos de prueba.\n",
    "* ```@Nested```: indica que la clase es una clase anidada que contiene casos de prueba relacionados.\n",
    "* ```@Tag```: indica que el método o la clase está etiquetado con una o más etiquetas para filtrar o agrupar las pruebas.\n",
    "* ```@Disabled```: indica que el método o la clase está deshabilitado y no se ejecuta.\n",
    "* ```@Timeout```: indica que el método o la clase tiene un tiempo límite para su ejecución.\n",
    "* ```@ExtendWith```: indica que el método o la clase se extiende con una o más extensiones que proporcionan funcionalidades adicionales."
   ]
  },
  {
   "cell_type": "markdown",
   "metadata": {},
   "source": [
    "**Ejemplo:**"
   ]
  },
  {
   "cell_type": "markdown",
   "metadata": {},
   "source": [
    "```java\n",
    "import org.junit.jupiter.api.*;\n",
    "import org.junit.jupiter.params.ParameterizedTest;\n",
    "import org.junit.jupiter.params.provider.ValueSource;\n",
    "\n",
    "@TestMethodOrder(MethodOrderer.OrderAnnotation.class) // ordena los métodos por la anotación @Order\n",
    "\n",
    "@TestInstance(TestInstance.Lifecycle.PER_CLASS) // usa una sola instancia de la clase para todos los métodos\n",
    "\n",
    "@DisplayName(\"Clase de prueba con JUnit 5\") // muestra este nombre para la clase\n",
    "\n",
    "@Tag(\"example\") // etiqueta la clase con \"example\"\n",
    "class JUnit5ExampleTest {\n",
    "\n",
    "@BeforeAll // se ejecuta una vez antes de todos los métodos\n",
    "static void setUp() {\n",
    "    System.out.println(\"Inicializando recursos...\");\n",
    "}\n",
    "\n",
    "@AfterAll // se ejecuta una vez después de todos los métodos\n",
    "static void tearDown() {\n",
    "    System.out.println(\"Liberando recursos...\");\n",
    "}\n",
    "\n",
    "@BeforeEach // se ejecuta antes de cada método\n",
    "void init() {\n",
    "    System.out.println(\"Preparando datos...\");\n",
    "}\n",
    "\n",
    "@AfterEach // se ejecuta después de cada método\n",
    "void clean() {\n",
    "    System.out.println(\"Limpiando datos...\");\n",
    "}\n",
    "\n",
    "@Test // indica un caso de prueba simple\n",
    "@Order(1) // indica el orden del método\n",
    "@DisplayName(\"Prueba simple\") // muestra este nombre para el método\n",
    "@Tag(\"simple\") // etiqueta el método con \"simple\"\n",
    "@Timeout(5) // establece un tiempo límite de 5 segundos para el método\n",
    "void simpleTest() {\n",
    "    System.out.println(\"Ejecutando prueba simple...\"); \n",
    "    Assertions.assertTrue(true); // verifica una condición verdadera\n",
    "}\n",
    "\n",
    "@ParameterizedTest // indica un caso de prueba parametrizado\n",
    "@Order(2) // indica el orden del método\n",
    "@DisplayName(\"Prueba parametrizada\") // muestra este nombre para el método\n",
    "@Tag(\"parameterized\") // etiqueta el método con \"parameterized\"\n",
    "@ValueSource(ints = {1, 2, 3, 4}) // provee los valores para los argumentos del método\n",
    "void parameterizedTest(int number) {\n",
    "    System.out.println(\"Ejecutando prueba parametrizada con número: \" + number);\n",
    "    Assertions.assertTrue(number > 0); // verifica una condición verdadera\n",
    "}\n",
    "\n",
    "@RepeatedTest(3) // indica un caso de prueba repetido 3 veces\n",
    "@Order(3) // indica el orden del método\n",
    "@DisplayName(\"Prueba repetida\") // muestra este nombre para el método\n",
    "@Tag(\"repeated\") // etiqueta el método con \"repeated\"\n",
    "void repeatedTest(RepetitionInfo repetitionInfo) {\n",
    "    System.out.println(\"Ejecutando prueba repetida número: \" + repetitionInfo.getCurrentRepetition());\n",
    "    Assertions.assertTrue(repetitionInfo.getCurrentRepetition() <= repetitionInfo.getTotalRepetitions()); // verifica una condición verdadera\n",
    "}\n",
    "\n",
    "@TestFactory // indica una fábrica de casos de prueba dinámicos\n",
    "@Order(4) // indica el orden del método\n",
    "@DisplayName(\"Prueba dinámica\") // muestra este nombre para el método\n",
    "@Tag(\"dynamic\") // etiqueta el método con \"dynamic\"\n",
    "Stream<DynamicTest> dynamicTest() {\n",
    "    System.out.println(\"Ejecutando prueba dinámica...\");\n",
    "    List<String> names = Arrays.asList(\"Alice\", \"Bob\", \"Charlie\");\n",
    "return names.stream()\n",
    ".map(name -> DynamicTest.dynamicTest(\"Prueba con nombre: \" + name, () -> {\n",
    "    Assertions.assertNotNull(name); // verifica una condición no nula\n",
    "}));\n",
    "}\n",
    "\n",
    "@Nested // indica una clase anidada que contiene casos de prueba relacionados\n",
    "@DisplayName(\"Pruebas anidadas\") // muestra este nombre para la clase\n",
    "@Tag(\"nested\") // etiqueta la clase con \"nested\"\n",
    "class NestedTests {\n",
    "\n",
    "@Test // indica un caso de prueba simple\n",
    "@DisplayName(\"Prueba anidada 1\") // muestra este nombre para el método\n",
    "void nestedTest1() {\n",
    "    System.out.println(\"Ejecutando prueba anidada 1...\");\n",
    "    Assertions.assertTrue(true); // verifica una condición verdadera\n",
    "}\n",
    "\n",
    "@Test // indica un caso de prueba simple\n",
    "@DisplayName(\"Prueba anidada 2\") // muestra este nombre para el método\n",
    "void nestedTest2() {\n",
    "    System.out.println(\"Ejecutando prueba anidada 2...\");\n",
    "    Assertions.assertFalse(false); // verifica una condición falsa\n",
    "}\n",
    "}\n",
    "\n",
    "@Disabled // indica que el método está deshabilitado y no se ejecuta\n",
    "@Test // indica un caso de prueba simple\n",
    "@DisplayName(\"Prueba deshabilitada\") // muestra este nombre para el método\n",
    "void disabledTest() {\n",
    "    System.out.println(\"Ejecutando prueba deshabilitada...\");\n",
    "    Assertions.fail(); // falla la prueba\n",
    "}\n",
    "}\n",
    "```"
   ]
  },
  {
   "cell_type": "markdown",
   "metadata": {},
   "source": [
    "## Pruebas parametrizadas."
   ]
  },
  {
   "cell_type": "markdown",
   "metadata": {},
   "source": [
    "Las pruebas parametrizadas son una forma de escribir casos de prueba que se ejecutan con diferentes valores de entrada, sin tener que repetir el código de la prueba para cada valor. Esto permite probar el comportamiento de un método o una función con varios escenarios posibles, aumentando la cobertura y la calidad de las pruebas."
   ]
  },
  {
   "cell_type": "markdown",
   "metadata": {},
   "source": [
    "### Ventajas de las pruebas parametrizadas.\n",
    "\n",
    " Algunas de las ventajas de usar pruebas parametrizadas son:\n",
    "\n",
    "* Se pueden usar diferentes fuentes de datos para los argumentos, como valores literales, enumeraciones, métodos, archivos o streams.\n",
    "* Se pueden combinar varias fuentes de datos en una sola prueba, usando la anotación ```@ArgumentsSource```.\n",
    "* Se pueden convertir los argumentos a tipos personalizados, usando la anotación ```@ConvertWith```.\n",
    "* Se pueden inyectar información adicional sobre la prueba, como el nombre, el índice o la repetición, usando la anotación ```@TestInfo```.\n",
    "* Se pueden personalizar los nombres que se muestran para las pruebas parametrizadas, usando la anotación ```@DisplayName``` o ```@DisplayNameGenerator```.\n",
    "* Se pueden crear anotaciones compuestas para reutilizar las configuraciones comunes de las pruebas parametrizadas."
   ]
  },
  {
   "cell_type": "markdown",
   "metadata": {},
   "source": [
    "### Pasos para realizar una prueba parametrizada.\n",
    "\n",
    "Para escribir una prueba parametrizada con *JUnit 5*, se deben seguir los siguientes pasos:\n",
    "\n",
    "1. Anotar el método de prueba con ```@ParameterizedTest```, en lugar de ```@Test```.\n",
    "2. Especificar la fuente o fuentes de datos para los argumentos, usando una o más anotaciones como ```@ValueSource```, ```@EnumSource```, ```@MethodSource```, ```@CsvSource```, ```@CsvFileSource``` o ```@ArgumentsSource```.\n",
    "3. Declarar los parámetros del método de prueba que recibirán los argumentos de la fuente de datos. Opcionalmente, se pueden anotar con ```@ConvertWith``` para aplicar un conversor personalizado.\n",
    "4. Opcionalmente, declarar un parámetro adicional del tipo ```TestInfo``` para acceder a información sobre la prueba actual.\n",
    "5. Opcionalmente, personalizar el nombre que se muestra para la prueba parametrizada, usando ```@DisplayName``` o ```@DisplayNameGenerator```.\n",
    "6. Escribir el código de la prueba usando los parámetros recibidos y las aserciones correspondientes."
   ]
  },
  {
   "cell_type": "markdown",
   "metadata": {},
   "source": [
    "### Ejemplo.\n",
    "\n",
    "Un ejemplo de prueba parametrizada con JUnit 5 sería:\n",
    "\n",
    "```java\n",
    "import org.junit.jupiter.api.DisplayName;\n",
    "import org.junit.jupiter.params.ParameterizedTest;\n",
    "import org.junit.jupiter.params.provider.ValueSource;\n",
    "\n",
    "class CalculatorTest {\n",
    "\n",
    "  @ParameterizedTest // indica que es una prueba parametrizada\n",
    "  @ValueSource(ints = {2, 4, 6, 8}) // provee los valores enteros para los argumentos\n",
    "  @DisplayName(\"Suma dos números pares\") // muestra este nombre para la prueba\n",
    "  void testAddEvenNumbers(int number) { // recibe el número como parámetro\n",
    "    Calculator calculator = new Calculator(); // crea una instancia de la clase a probar\n",
    "    int result = calculator.add(number, number); // llama al método a probar\n",
    "    assertEquals(result % 2, 0); // verifica que el resultado sea par\n",
    "  }\n",
    "}\n",
    "```"
   ]
  },
  {
   "cell_type": "markdown",
   "metadata": {},
   "source": [
    "<p style=\"text-align: center\"><a rel=\"license\" href=\"http://creativecommons.org/licenses/by/4.0/\"><img alt=\"Licencia Creative Commons\" style=\"border-width:0\" src=\"https://i.creativecommons.org/l/by/4.0/80x15.png\" /></a><br />Esta obra está bajo una <a rel=\"license\" href=\"http://creativecommons.org/licenses/by/4.0/\">Licencia Creative Commons Atribución 4.0 Internacional</a>.</p>\n",
    "<p style=\"text-align: center\">&copy; José Luis Chiquete Valdivieso. 2023.</p>"
   ]
  }
 ],
 "metadata": {
  "kernelspec": {
   "display_name": "Python 3 (ipykernel)",
   "language": "python",
   "name": "python3"
  },
  "language_info": {
   "codemirror_mode": {
    "name": "ipython",
    "version": 3
   },
   "file_extension": ".py",
   "mimetype": "text/x-python",
   "name": "python",
   "nbconvert_exporter": "python",
   "pygments_lexer": "ipython3",
   "version": "3.10.6"
  }
 },
 "nbformat": 4,
 "nbformat_minor": 2
}
