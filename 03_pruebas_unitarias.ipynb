{
 "cells": [
  {
   "cell_type": "markdown",
   "id": "088a2b84",
   "metadata": {},
   "source": [
    "# Pruebas unitarias."
   ]
  },
  {
   "cell_type": "markdown",
   "id": "8a4131d6",
   "metadata": {},
   "source": [
    "El desarrollo dirgido por pruebas se basa primordialmente en el uso de pruebas unitarias.\n",
    "\n",
    "La escritura de pruebas unitarias conllevan muchos beneficios.Las pruebas ayudan con la regresión, proporcionan documentación y facilitan un buen diseño. Sin embargo, en ocasiones son difíciles de leer y, si son frágiles, pueden causar estragos en el código base."
   ]
  },
  {
   "cell_type": "markdown",
   "id": "1c9f568b",
   "metadata": {},
   "source": [
    "## Justificación de la pruebas unitarias."
   ]
  },
  {
   "cell_type": "markdown",
   "id": "27a7c76e",
   "metadata": {},
   "source": [
    "Las pruebas funcionales son costosas. Normalmente implican la apertura de la aplicación y la realización de una serie de pasos que el *tester* debe seguir para validar el comportamiento esperado. Las pruebas en sí mismas podrían llevar segundos en el caso de cambios triviales, o minutos en el de cambios más importantes. Por último, este proceso debe repetirse para cada cambio que se realice en el sistema.\n",
    "\n",
    "Por otra parte, las pruebas unitarias duran milisegundos, se pueden ejecutar con solo presionar un botón y no exigen necesariamente ningún conocimiento del sistema completo. El que la prueba sea exitosa o no depende del ejecutor (*runner* de pruebas), no del usuario."
   ]
  },
  {
   "cell_type": "markdown",
   "id": "7eaab577",
   "metadata": {},
   "source": [
    "## Protección contra las regresiones."
   ]
  },
  {
   "cell_type": "markdown",
   "id": "8232af87",
   "metadata": {},
   "source": [
    "Los defectos de regresión son aquellos que se presentan cuando se realiza un cambio en la aplicación. Es habitual que los *testers* no solo prueben una nueva característica, sino también las ya existentes con el fin de comprobar que las características implementadas anteriormente siguen funcionando según lo previsto.\n",
    "\n",
    "Con las pruebas unitarias, es posible volver a ejecutar el conjunto completo de pruebas después de cada compilación o incluso después de cambiar una línea de código. Eso da confianza en que el nuevo código no afecte la funcionalidad existente."
   ]
  },
  {
   "cell_type": "markdown",
   "id": "67b30e49",
   "metadata": {},
   "source": [
    "## Documentación ejecutable."
   ]
  },
  {
   "cell_type": "markdown",
   "id": "ecabcc2e",
   "metadata": {},
   "source": [
    "Es posible que no siempre sea evidente lo que hace un método determinado o cómo se comporta ante una acción determinada.\n",
    "\n",
    "Si tiene un conjunto de pruebas unitarias con un nombre adecuado, cada prueba debe ser capaz de explicar con claridad el resultado esperado de una acción determinada. Además, debe ser capaz de comprobar que funciona."
   ]
  },
  {
   "cell_type": "markdown",
   "id": "162b1c5c",
   "metadata": {},
   "source": [
    "## Menos código acoplado."
   ]
  },
  {
   "cell_type": "markdown",
   "id": "2633dd8f",
   "metadata": {},
   "source": [
    "Cuando el código está estrechamente acoplado, puede resultar difícil realizar pruebas unitarias. Sin crear pruebas unitarias para el código que se está escribiendo, el acoplamiento puede ser menos evidente.\n",
    "\n",
    "Al escribir pruebas para el código, este se desacopla naturalmente, ya que, de otra forma, sería más difícil de probar."
   ]
  },
  {
   "cell_type": "markdown",
   "id": "310f6789",
   "metadata": {},
   "source": [
    "## Características de una buena prueba unitaria."
   ]
  },
  {
   "cell_type": "markdown",
   "id": "7f3edfa8",
   "metadata": {},
   "source": [
    "* Rápida: no es poco frecuente que los proyectos maduros tengan miles de pruebas unitarias. Las pruebas unitarias deberían tardar poco tiempo en ejecutarse. Milisegundos.\n",
    "\n",
    "* Aislada: las pruebas unitarias son independientes, se pueden ejecutar de forma aislada y no tienen ninguna dependencia de ningún factor externo, como un sistema de archivos o una base de datos.\n",
    "\n",
    "* Repetible: la ejecución de una prueba unitaria debe ser coherente con sus resultados, es decir, devolver siempre el mismo resultado si no cambia nada entre ejecuciones.\n",
    "\n",
    "* Autocomprobable: la prueba debe ser capaz de detectar automáticamente si el resultado ha sido correcto o incorrecto sin necesidad de intervención humana.\n",
    "\n",
    "* Puntual: una prueba unitaria no debe tardar un tiempo desproporcionado en escribirse en comparación con el código que se va a probar. Si observa que la prueba del código tarda mucho en comparación con su escritura, considere un diseño más fácil de probar."
   ]
  },
  {
   "cell_type": "markdown",
   "id": "922ba4a9",
   "metadata": {},
   "source": [
    "## Mejores prácticas."
   ]
  },
  {
   "cell_type": "markdown",
   "id": "fa38ed8e",
   "metadata": {},
   "source": [
    "### Gestión de dependencias.\n",
    "\n",
    "No se recomienda incluir dependencias en la infraestructura al escribir pruebas unitarias. Las dependencias vuelven las pruebas lentas y frágiles, y se deben reservar para las pruebas de integración. Para evitar esas dependencias en su aplicación se sigue el [Principio de dependencias explícitas](https://learn.microsoft.com/es-es/dotnet/architecture/modern-web-apps-azure/architectural-principles#explicit-dependencies) y usando la [Inserción de dependencias](https://learn.microsoft.com/es-es/dotnet/core/extensions/dependency-injection). También se recomienda mantener las pruebas unitarias en un proyecto separado de las pruebas de integración. Este enfoque garantiza que el proyecto de pruebas unitarias no tenga referencias a paquetes de infraestructura ni dependencias de estos."
   ]
  },
  {
   "cell_type": "markdown",
   "id": "d5df8f49",
   "metadata": {},
   "source": [
    "### Asignar nombres descriptivos a las pruebas.\n",
    "\n",
    "El nombre de la prueba debe constar de tres partes:\n",
    "\n",
    "* Nombre del método que se va a probar.\n",
    "* Escenario en el que se está probando.\n",
    "* Comportamiento esperado al invocar al escenario."
   ]
  },
  {
   "cell_type": "markdown",
   "id": "5665f3d9",
   "metadata": {},
   "source": [
    "### Organizar las pruebas.\n",
    "\n",
    "**Arrange, Act, Assert** es un patrón común al realizar pruebas unitarias. Como el propio nombre implica, consta de tres acciones principales:"
   ]
  },
  {
   "cell_type": "markdown",
   "id": "9c24c210",
   "metadata": {},
   "source": [
    "### Escribir pruebas de la forma más sencilla posible.\n",
    "\n",
    "Las pruebas que incluyen más información de la necesaria, tienen una mayor posibilidad de incorporar errores y pueden hacer confusa su intención. Al escribir pruebas, es necesario centrarse en el comportamiento. El establecimiento de propiedades adicionales en los modelos o el empleo de valores distintos de cero cuando no es necesario solo resta de lo que se quiere probar."
   ]
  },
  {
   "cell_type": "markdown",
   "id": "fad565af",
   "metadata": {},
   "source": [
    "### Evitar la lógica en las pruebas.\n",
    "\n",
    "Al escribir las pruebas unitarias, se recomienda evitar la concatenación manual de cadenas y las condiciones lógicas como ```if```, ```while```, ```for```, ```switch``` y otras condiciones.\n",
    "\n",
    "Al incorporar lógica al conjunto de pruebas, aumenta considerablemente la posibilidad de agregar un error. El último lugar en el que se quiere encontrar un error es el conjunto de pruebas. Se debe de tener un alto nivel de confianza de que las pruebas funcionen. Las pruebas en las que no se confía no proporcionan ningún valor. Cuando se produce un error en una prueba, se quiere saber que algo va mal con el código y que no se puede omitir."
   ]
  },
  {
   "cell_type": "markdown",
   "id": "f3e40479",
   "metadata": {},
   "source": [
    "### Evitar varias acciones en una prueba.\n",
    "\n",
    "Al escribir las pruebas, se recomienda incluir solo una acción por prueba. Entre los enfoques comunes para usar solo una acción se incluyen los siguientes:\n",
    "\n",
    "* Crear una prueba independiente para cada acción.\n",
    "* Usar pruebas con parámetros.\n",
    "\n",
    "Varias acciones se deben validar individualmente y no se garantiza que se ejecuten todas las validaciones. \n",
    "\n",
    "En la mayoría de los marcos de pruebas unitarias, cuando se produce un error de una declaración en una prueba unitaria, se considera de forma automática que las pruebas siguientes tienen errores. Este tipo de proceso puede ser confuso."
   ]
  },
  {
   "cell_type": "markdown",
   "id": "55bb1a11",
   "metadata": {},
   "source": [
    "### Validar métodos privados mediante la prueba unitaria de métodos públicos.\n",
    "\n",
    "En la mayoría de los casos, no es necesario probar un método privado. Los métodos privados son un detalle de implementación y nunca existen de forma aislada. En algún momento, va a haber un método público que llame al método privado como parte de su implementación. Lo que debería importarle es el resultado final del método público que llama al privado."
   ]
  },
  {
   "cell_type": "markdown",
   "id": "cd14642a",
   "metadata": {},
   "source": [
    "* https://learn.microsoft.com/en-us/dotnet/core/testing/unit-testing-best-practices"
   ]
  },
  {
   "cell_type": "markdown",
   "id": "03cf61c1",
   "metadata": {},
   "source": [
    "<p style=\"text-align: center\"><a rel=\"license\" href=\"http://creativecommons.org/licenses/by/4.0/\"><img alt=\"Licencia Creative Commons\" style=\"border-width:0\" src=\"https://i.creativecommons.org/l/by/4.0/80x15.png\" /></a><br />Esta obra está bajo una <a rel=\"license\" href=\"http://creativecommons.org/licenses/by/4.0/\">Licencia Creative Commons Atribución 4.0 Internacional</a>.</p>\n",
    "<p style=\"text-align: center\">&copy; José Luis Chiquete Valdivieso. 2023.</p>"
   ]
  }
 ],
 "metadata": {
  "kernelspec": {
   "display_name": "Python 3 (ipykernel)",
   "language": "python",
   "name": "python3"
  },
  "language_info": {
   "codemirror_mode": {
    "name": "ipython",
    "version": 3
   },
   "file_extension": ".py",
   "mimetype": "text/x-python",
   "name": "python",
   "nbconvert_exporter": "python",
   "pygments_lexer": "ipython3",
   "version": "3.11.2"
  }
 },
 "nbformat": 4,
 "nbformat_minor": 5
}
