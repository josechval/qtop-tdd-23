{
 "cells": [
  {
   "cell_type": "markdown",
   "id": "8d81fd1c",
   "metadata": {},
   "source": [
    "## NUnit, xUnit y MSTest."
   ]
  },
  {
   "cell_type": "markdown",
   "id": "6bd889f3",
   "metadata": {},
   "source": [
    "Existen varias herramientas de pruebas para *.NET*. "
   ]
  },
  {
   "cell_type": "markdown",
   "id": "a9163af0",
   "metadata": {},
   "source": [
    "## *NUnit*."
   ]
  },
  {
   "cell_type": "markdown",
   "id": "51cda43a",
   "metadata": {},
   "source": [
    "[*NUnit*](https://nunit.org/) es un *framework* de pruebas unitarias para todos los lenguajes *.NET*. Inicialmente portado desde *JUnit*, la versión de producción actual, la versión 3, se ha reescrito por completo con muchas características nuevas y soporte para una amplia gama de plataformas *.NET*."
   ]
  },
  {
   "cell_type": "markdown",
   "id": "dba4630c",
   "metadata": {},
   "source": [
    "```C#\n",
    "using NUnit.Framework;\n",
    "using Prime.Services;\n",
    "\n",
    "namespace Prime.UnitTests.Services\n",
    "{\n",
    "    [TestFixture]\n",
    "    public class PrimeService_IsPrimeShould\n",
    "    {\n",
    "        private PrimeService _primeService;\n",
    "\n",
    "        [SetUp]\n",
    "        public void SetUp()\n",
    "        {\n",
    "            _primeService = new PrimeService();\n",
    "        }\n",
    "\n",
    "        [Test]\n",
    "        public void IsPrime_InputIs1_ReturnFalse()\n",
    "        {\n",
    "            var result = _primeService.IsPrime(1);\n",
    "\n",
    "            Assert.IsFalse(result, \"1 should not be prime\");\n",
    "        }\n",
    "    }\n",
    "}\n",
    "```"
   ]
  },
  {
   "cell_type": "markdown",
   "id": "0f74e069",
   "metadata": {},
   "source": [
    "### Atributos.\n",
    "\n",
    "Los atributos que pueden ser utilizados con *NUnit* pueden ser consultados en la siguente liga:\n",
    "\n",
    "https://docs.nunit.org/articles/nunit/writing-tests/attributes.html"
   ]
  },
  {
   "cell_type": "markdown",
   "id": "2e6180f0",
   "metadata": {},
   "source": [
    "### Tutorial de *NUnit*.\n",
    "\n",
    "El siguiente enlace apunta a un tutorial de *NUnit* para *C#*.\n",
    "\n",
    "* https://learn.microsoft.com/es-es/dotnet/core/testing/unit-testing-with-nunit"
   ]
  },
  {
   "cell_type": "markdown",
   "id": "715e2264",
   "metadata": {},
   "source": [
    "## *xUnit.net*.\n",
    "\n",
    "[*xUnit.net*](https://xunit.net/) es una herramienta gratuita de pruebas unitarias, de código abierto y centrada en la comunidad para *.NET Framework*. Fue escrita por el creador original de *NUnit v2*.\n",
    "\n",
    "*xUnit.net* es la última tecnología para pruebas unitarias en *C#*, *F#*, *VB.NET* y otros lenguajes *.NET*. \n",
    "\n",
    "*xUnit.net* funciona con *ReSharper*, *CodeRush*, *TestDriven.NET* y *Xamarin*. "
   ]
  },
  {
   "cell_type": "markdown",
   "id": "0a392c44",
   "metadata": {},
   "source": [
    "### Anotaciones.\n",
    "\n",
    "*xUnit* utiliza las anotaciones ```[Fact]``` y ```[Theory]``` para definir métodos de prueba.\n",
    "\n",
    "* La anotación ```[Fact]``` indica que el método de prueba al que se le aplica la anotación no utiliza parámetros.\n",
    "* La anotación ```[Theory]``` indica que el método de prueba al que se le aplica la anotación utiliza parámetros, los cuales están contenidos en un objeto ```InlineData```."
   ]
  },
  {
   "cell_type": "markdown",
   "id": "77db9009",
   "metadata": {},
   "source": [
    "```C#\n",
    "Using Xunit;\n",
    "\n",
    "namespace xunitTestExample {\n",
    "    public class xunitTestClass {\n",
    "\n",
    "        //Fact tests do not take inputs.\n",
    "        //As a result, the result of the test should depend only on actions performed within the test\n",
    "        [Fact]\n",
    "        public void factExample() {\n",
    "            Assert.Equal((1 + 2), 3);\n",
    "        }\n",
    "\n",
    "        //Inputs are used in Theory tests to ensure that the functionality works in multiple circumstances\n",
    "        //Data to be passed into the tests is defined in the 'InlineData' tags.\n",
    "        //The test runs one time for each of the 'InlineData' tags present in the annotation\n",
    "        [Theory]\n",
    "        [InlineData(1, 2, 3)]\n",
    "        [InlineData(10, 2, 12)]\n",
    "        [InlineData(3, 3, 6)]\n",
    "        [InlineData(7, 14, 21)]\n",
    "        public void theoryExample(int firstValueToAdd, int secondValueToAdd, int expectedOutput) {\n",
    "            Assert.Equal((firstValueToAdd + secondValueToAdd), expectedOutput);\n",
    "        }\n",
    "    }\n",
    "}\n",
    "```"
   ]
  },
  {
   "cell_type": "markdown",
   "id": "079988df",
   "metadata": {},
   "source": [
    "### Tutorial de *xUnit*.\n",
    "\n",
    "El siguiente enlace apunta a un tutorial de *xUnit* para *C#*.\n",
    "\n",
    "* https://learn.microsoft.com/es-es/dotnet/core/testing/unit-testing-with-dotnet-test"
   ]
  },
  {
   "cell_type": "markdown",
   "id": "f53d2bf2",
   "metadata": {},
   "source": [
    "## MSTest."
   ]
  },
  {
   "cell_type": "markdown",
   "id": "42ca3bec",
   "metadata": {},
   "source": [
    "[MSTest](https://github.com/Microsoft/testfx-docs) es el marco de pruebas de Microsoft para todos los lenguajes *.NET*. Es extensible y funciona con la CLI de *.NET* y *Visual Studio*.\n",
    "\n",
    "* La anotación ```[TestClass]``` indica que se definirá una clase de prueba.\n",
    "* La anotación ```[TestMethod]``` indica que se definirá un método de prueba."
   ]
  },
  {
   "cell_type": "markdown",
   "id": "254d6565",
   "metadata": {},
   "source": [
    "```C#\n",
    "using Microsoft.VisualStudio.TestTools.UnitTesting;\n",
    "using Prime.Services;\n",
    "\n",
    "namespace Prime.UnitTests.Services\n",
    "{\n",
    "    [TestClass]\n",
    "    public class PrimeService_IsPrimeShould\n",
    "    {\n",
    "        private readonly PrimeService _primeService;\n",
    "\n",
    "        public PrimeService_IsPrimeShould()\n",
    "        {\n",
    "            _primeService = new PrimeService();\n",
    "        }\n",
    "\n",
    "        [TestMethod]\n",
    "        public void IsPrime_InputIs1_ReturnFalse()\n",
    "        {\n",
    "            bool result = _primeService.IsPrime(1);\n",
    "\n",
    "            Assert.IsFalse(result, \"1 should not be prime\");\n",
    "        }\n",
    "    }\n",
    "}\n",
    "```"
   ]
  },
  {
   "cell_type": "markdown",
   "id": "497984e5",
   "metadata": {},
   "source": [
    "### Tutorial de *MSTest*.\n",
    "\n",
    "El siguiente enlace apunta a un tutorial de *MSTest* para *C#*.\n",
    "\n",
    "https://learn.microsoft.com/es-es/dotnet/core/testing/unit-testing-with-mstest"
   ]
  },
  {
   "cell_type": "markdown",
   "id": "92c6cf0a",
   "metadata": {},
   "source": [
    "<p style=\"text-align: center\"><a rel=\"license\" href=\"http://creativecommons.org/licenses/by/4.0/\"><img alt=\"Licencia Creative Commons\" style=\"border-width:0\" src=\"https://i.creativecommons.org/l/by/4.0/80x15.png\" /></a><br />Esta obra está bajo una <a rel=\"license\" href=\"http://creativecommons.org/licenses/by/4.0/\">Licencia Creative Commons Atribución 4.0 Internacional</a>.</p>\n",
    "<p style=\"text-align: center\">&copy; José Luis Chiquete Valdivieso. 2023.</p>"
   ]
  }
 ],
 "metadata": {
  "kernelspec": {
   "display_name": "Python 3 (ipykernel)",
   "language": "python",
   "name": "python3"
  },
  "language_info": {
   "codemirror_mode": {
    "name": "ipython",
    "version": 3
   },
   "file_extension": ".py",
   "mimetype": "text/x-python",
   "name": "python",
   "nbconvert_exporter": "python",
   "pygments_lexer": "ipython3",
   "version": "3.10.6"
  }
 },
 "nbformat": 4,
 "nbformat_minor": 5
}
