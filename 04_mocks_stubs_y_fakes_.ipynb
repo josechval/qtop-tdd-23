{
 "cells": [
  {
   "cell_type": "markdown",
   "metadata": {},
   "source": [
    "# *Mocks*, *stubs* y *fakes*."
   ]
  },
  {
   "cell_type": "markdown",
   "metadata": {},
   "source": [
    "Las pruebas unitarias son una forma de verificar el funcionamiento correcto de una unidad de código, como un método o una clase, aislándola de sus dependencias externas. Sin embargo, a veces esas dependencias son necesarias para el comportamiento esperado de la unidad, y no se pueden eliminar fácilmente. En esos casos, se pueden utilizar objetos que simulan el comportamiento de las dependencias, sin ser las reales. Estos objetos se conocen como test doubles, y hay diferentes tipos según el grado de simulación que realizan. Algunos de los tipos más comunes son:\n",
    "\n",
    "* *Mocks*: son objetos que imitan el comportamiento de las dependencias, pero también verifican que se cumplan ciertas expectativas sobre las interacciones que se producen con ellas. Por ejemplo, un *mock* puede comprobar que se llama a un determinado método con unos argumentos específicos, o que se lanza una excepción en cierta situación. Los *mocks* se utilizan para hacer pruebas basadas en el comportamiento (*behavioral testing*), donde lo que importa es cómo se produce la comunicación entre los objetos, más que el estado final de los mismos.\n",
    "* *Stubs*: son objetos que imitan el comportamiento de las dependencias, pero solo devuelven respuestas predefinidas a las llamadas que se les hacen, sin verificar nada más. Por ejemplo, un *stub* puede devolver un valor fijo, una lista vacía o un objeto nulo, según lo que se haya programado para la prueba. Los stubs se utilizan para hacer pruebas basadas en el estado (*state testing*), donde lo que importa es el resultado final de la ejecución del código, más que el proceso intermedio\n",
    "* *Fakes*: son objetos que imitan el comportamiento de las dependencias, pero tienen una implementación real, aunque simplificada o limitada, que no es adecuada para el entorno de producción. Por ejemplo, un *fake* puede ser una base de datos en memoria, un servidor web ligero o un generador de datos aleatorios. Los *fakes* se utilizan para hacer pruebas más realistas, pero sin incurrir en los costes o riesgos de usar las dependencias reales.\n",
    "\n",
    "Para crear y usar estos objetos en las pruebas unitarias con *JUnit 5*, se pueden utilizar diferentes herramientas o frameworks, como *Mockito*, *PowerMock* o *EasyMock*."
   ]
  },
  {
   "cell_type": "markdown",
   "metadata": {},
   "source": [
    "## *Mockito*."
   ]
  },
  {
   "cell_type": "markdown",
   "metadata": {},
   "source": [
    "*Mockito* es un framework de código abierto para *Java* que facilita la creación y el uso de objetos dobles de prueba, también conocidos como *test doubles*, en las pruebas unitarias. Los *test doubles* son objetos que simulan el comportamiento de las dependencias reales de la unidad de código que se está probando, sin necesidad de invocarlas realmente. De esta forma, se puede aislar y verificar el comportamiento esperado de la unidad, sin depender de factores externos que puedan afectar a la prueba.\n",
    "\n",
    "*Mockito* ofrece una *API* sencilla y fluida para crear y configurar los test doubles, así como para verificar las interacciones que se producen con ellos durante la ejecución de la prueba. Mockito permite crear diferentes tipos de test doubles, como mocks, stubs o spies, según el nivel de simulación y verificación que se requiera. Además, *Mockito* se integra fácilmente con otros frameworks de pruebas, como *JUnit*, *TestNG* o *Spring Test*.\n",
    "\n",
    "Para usar *Mockito* en un proyecto *Java*, se puede declarar una dependencia en el artefacto ```mockito-core``` usando el sistema de construcción preferido, como *Maven* o *Gradle*. También se puede descargar el *jar* directamente desde el repositorio central de *Maven*.\n",
    "\n",
    "* https://javadoc.io/doc/org.mockito/mockito-core/latest/org/mockito/Mockito.html"
   ]
  },
  {
   "cell_type": "markdown",
   "metadata": {},
   "source": [
    "### Ejemplo.\n",
    "\n",
    "```java\n",
    "import org.junit.jupiter.api.Test;\n",
    "import org.mockito.Mockito;\n",
    "\n",
    "class UserServiceTest {\n",
    "\n",
    "  @Test\n",
    "  void testRegisterUser() {\n",
    "    // Crear un mock del repositorio de usuarios\n",
    "    UserRepository userRepository = Mockito.mock(UserRepository.class);\n",
    "\n",
    "    // Crear un stub del servicio de correo electrónico\n",
    "EmailService emailService = Mockito.mock(EmailService.class);\n",
    "Mockito.doNothing().when(emailService).sendEmail(Mockito.anyString(), Mockito.anyString());\n",
    "\n",
    "    // Crear una instancia del servicio de usuarios con las dependencias simuladas\n",
    "    UserService userService = new UserService(userRepository, emailService);\n",
    "\n",
    "    // Llamar al método a probar con un usuario de ejemplo\n",
    "    User user = new User(\"alice@example.com\", \"Alice\", \"secret\");\n",
    "userService.registerUser(user);\n",
    "\n",
    "    // Verificar que se guardó el usuario en el repositorio\n",
    "    Mockito.verify(userRepository).save(user);\n",
    "\n",
    "    // Verificar que se envió un correo electrónico al usuario\n",
    "    Mockito.verify(emailService).sendEmail(user.getEmail(), \"Welcome Alice!\");\n",
    "  }\n",
    "}\n",
    "```"
   ]
  },
  {
   "cell_type": "markdown",
   "metadata": {},
   "source": [
    "<p style=\"text-align: center\"><a rel=\"license\" href=\"http://creativecommons.org/licenses/by/4.0/\"><img alt=\"Licencia Creative Commons\" style=\"border-width:0\" src=\"https://i.creativecommons.org/l/by/4.0/80x15.png\" /></a><br />Esta obra está bajo una <a rel=\"license\" href=\"http://creativecommons.org/licenses/by/4.0/\">Licencia Creative Commons Atribución 4.0 Internacional</a>.</p>\n",
    "<p style=\"text-align: center\">&copy; José Luis Chiquete Valdivieso. 2023.</p>"
   ]
  }
 ],
 "metadata": {
  "kernelspec": {
   "display_name": "Python 3 (ipykernel)",
   "language": "python",
   "name": "python3"
  },
  "language_info": {
   "codemirror_mode": {
    "name": "ipython",
    "version": 3
   },
   "file_extension": ".py",
   "mimetype": "text/x-python",
   "name": "python",
   "nbconvert_exporter": "python",
   "pygments_lexer": "ipython3",
   "version": "3.10.6"
  }
 },
 "nbformat": 4,
 "nbformat_minor": 2
}
