{
 "cells": [
  {
   "cell_type": "markdown",
   "metadata": {},
   "source": [
    "# Métricas más comunes."
   ]
  },
  {
   "cell_type": "markdown",
   "metadata": {},
   "source": [
    "Las pruebas unitarias son una práctica fundamental en el desarrollo de software, ya que permiten garantizar la calidad y la estabilidad de los componentes individuales de una aplicación. Al realizar pruebas unitarias, se evalúa el comportamiento de cada unidad de código (funciones, métodos o clases) de manera aislada, asegurando que funcione correctamente y que sus resultados sean los esperados.\n",
    "\n",
    "Para medir la efectividad de las pruebas unitarias, se utilizan métricas, siendo las más comunes la \"Cobertura de Código\" y la \"Cobertura de Pruebas\". Estas métricas proporcionan una visión objetiva del grado de exhaustividad y calidad de las pruebas realizadas."
   ]
  },
  {
   "cell_type": "markdown",
   "metadata": {},
   "source": [
    "##  Cobertura de Código."
   ]
  },
  {
   "cell_type": "markdown",
   "metadata": {},
   "source": [
    "La Cobertura de Código, también conocida como *Coverage* en inglés, mide la proporción de código fuente que es ejecutado durante la ejecución de las pruebas unitarias. Es decir, representa la cantidad de líneas de código o bloques que han sido visitados y probados al menos una vez. Se expresa como un porcentaje, donde un 100% de cobertura de código indicaría que todas las líneas o bloques del código fueron ejecutados por las pruebas.\n",
    "\n",
    "La Cobertura de Código proporciona una indicación cuantitativa de cuánto del código está siendo evaluado, lo que permite identificar áreas del código que no están siendo probadas adecuadamente. Sin embargo, tener una cobertura del 100% no garantiza que las pruebas sean exhaustivas o que no haya errores. Es posible tener una alta cobertura pero no estar probando situaciones límite, casos de borde o escenarios de error poco comunes."
   ]
  },
  {
   "cell_type": "markdown",
   "metadata": {},
   "source": [
    "## Cobertura de Pruebas."
   ]
  },
  {
   "cell_type": "markdown",
   "metadata": {},
   "source": [
    "La Cobertura de Pruebas, también llamada *Test Coverage*, mide la cantidad de casos de prueba que se han diseñado y ejecutado para cubrir diferentes situaciones en el código. Esta métrica evalúa qué porcentaje del comportamiento del código ha sido sometido a pruebas mediante diferentes entradas y condiciones.\n",
    "\n",
    "Al calcular la Cobertura de Pruebas, se busca garantizar que se han diseñado suficientes pruebas para cubrir las diferentes rutas y decisiones que se pueden tomar en el código. Una alta cobertura de pruebas indica que se ha intentado evaluar el software desde múltiples perspectivas y escenarios posibles."
   ]
  },
  {
   "cell_type": "markdown",
   "metadata": {},
   "source": [
    "## Importancia de ambas métricas."
   ]
  },
  {
   "cell_type": "markdown",
   "metadata": {},
   "source": [
    "Tanto la Cobertura de Código como la Cobertura de Pruebas son métricas importantes, pero es crucial entender que no son los únicos factores que determinan la calidad de las pruebas unitarias o la fiabilidad del código.\n",
    "\n",
    "Una alta Cobertura de Código es indicativa de que la mayoría del código ha sido visitado durante las pruebas, lo que aumenta la confianza en el comportamiento general del programa. Sin embargo, una alta cobertura no garantiza la detección de errores sutiles o problemas de lógica.\n",
    "\n",
    "Por otro lado, una alta Cobertura de Pruebas indica que se han diseñado y ejecutado múltiples casos para evaluar el comportamiento del código. Sin embargo, no garantiza que todas las posibles combinaciones de entrada y condiciones hayan sido consideradas.\n",
    "\n",
    "Es esencial que los equipos de desarrollo utilicen estas métricas como una guía y no como un fin en sí mismas. Es recomendable complementar estas métricas con otras prácticas como la revisión de código por pares, análisis estático, pruebas de integración y pruebas exploratorias para obtener una visión más completa de la calidad del software."
   ]
  },
  {
   "cell_type": "markdown",
   "metadata": {},
   "source": [
    "## Otras métricas."
   ]
  },
  {
   "cell_type": "markdown",
   "metadata": {},
   "source": [
    "Además de la cobertura de código y la cobertura de pruebas, existen diversas métricas que los equipos de desarrollo y prueba utilizan para evaluar la calidad del software y la efectividad de las pruebas. Estas métricas proporcionan diferentes perspectivas sobre el rendimiento, mantenibilidad y confiabilidad del código. Algunas de las métricas más comunes son las siguientes:\n",
    "\n",
    "* **Ciclos de Complejidad** (*Cyclomatic Complexity*): Esta métrica evalúa la complejidad del código midiendo la cantidad de caminos independientes que existen a través de una función o método. A mayor complejidad ciclomática, es más probable que la unidad de código contenga errores y sea más difícil de mantener.\n",
    "* **Longitud del Código** (*Code Length*): Mide la cantidad de líneas de código dentro de una función, método o clase. Un código excesivamente largo puede ser difícil de entender y mantener.\n",
    "* **Duplicación de Código** (*Code Duplication*): Esta métrica identifica la cantidad de código duplicado en el sistema. La duplicación de código aumenta la dificultad de mantener y modificar el software y puede llevar a errores.\n",
    "* **Métricas de Acoplamiento** (*Coupling Metrics*): Estas métricas evalúan el nivel de acoplamiento entre módulos o clases en el código. Un alto acoplamiento puede hacer que el sistema sea más difícil de entender y modificar.\n",
    "* **Métricas de Cohesión** (*Cohesion Metrics*): Evalúan el grado en que los elementos dentro de un módulo o clase están relacionados funcionalmente. Un alto grado de cohesión indica que los elementos dentro del módulo están fuertemente relacionados y cumplen una función específica.\n",
    "* **Tiempo de Ejecución** (*Runtime*): Mide el tiempo que tarda una unidad de código o una prueba en ejecutarse. El tiempo de ejecución puede ser útil para identificar cuellos de botella y mejorar el rendimiento del software.\n",
    "* **Memoria Utilizada** (*Memory Usage*): Esta métrica mide la cantidad de memoria que una unidad de código o prueba consume durante la ejecución. Puede ser crítico para asegurar que el software no tenga fugas de memoria.\n",
    "* **Tasa de Defectos** (*Defect Density*): Calcula la cantidad de defectos o errores encontrados en una unidad de código o sistema en relación con su tamaño. Ayuda a identificar áreas problemáticas y priorizar las tareas de corrección.\n",
    "* **Tasa de Fallas** (*Failure Rate*): Mide la cantidad de veces que una unidad de código o sistema falla durante un período específico. Es especialmente relevante en sistemas en producción para evaluar la confiabilidad.\n",
    "* **Tiempo de Respuesta** (*Response Time*): Esta métrica mide el tiempo que tarda una función o sistema en responder a una solicitud. Es especialmente relevante en aplicaciones en tiempo real o con requisitos de rendimiento estrictos."
   ]
  },
  {
   "cell_type": "markdown",
   "metadata": {},
   "source": [
    "## *Jacoco*."
   ]
  },
  {
   "cell_type": "markdown",
   "metadata": {},
   "source": [
    "[*JaCoCo*](https://www.eclemma.org/jacoco/) (*Java Code Coverage*) es una herramienta de código abierto utilizada para medir la cobertura de código en aplicaciones *Java*. Esta herramienta permite evaluar qué porcentaje del código fuente de una aplicación ha sido ejecutado durante la ejecución de pruebas, lo que proporciona información valiosa sobre la calidad de las pruebas unitarias y la exhaustividad de la suite de pruebas."
   ]
  },
  {
   "cell_type": "markdown",
   "metadata": {},
   "source": [
    "### Funcionamiento de *JaCoCo*.\n",
    "\n",
    "El funcionamiento de *JaCoCo* se basa en la instrumentación del *bytecode* de *Java*. La instrumentación es un proceso mediante el cual se modifican las clases compiladas para registrar información sobre la ejecución durante la fase de pruebas. Esto se realiza sin modificar el código fuente original, lo que permite que las pruebas se realicen en el código tal como fue escrito.\n",
    "\n",
    "El proceso de instrumentación de *JaCoCo* se puede resumir en los siguientes pasos:\n",
    "\n",
    "1. **Preparación del código:** Antes de ejecutar las pruebas, el código fuente se compila en bytecode, el cual es el formato que entiende la máquina virtual de *Java* (*JVM*).\n",
    "\n",
    "2. **Instrumentación:** *JaCoCo* modifica el *bytecode* para insertar contadores que rastrean cuántas veces se ha ejecutado cada línea de código y cada rama de decisión. Estos contadores se agregan a las clases de manera transparente.\n",
    "\n",
    "3. **Ejecución de pruebas:** Una vez que el código ha sido instrumentado, se ejecutan las pruebas sobre la aplicación. Durante esta ejecución, los contadores rastrean qué partes del código se han visitado y cuáles no.\n",
    "\n",
    "4. **Generación de informes:** Después de que las pruebas se han ejecutado, JaCoCo recopila los datos de los contadores y genera informes detallados de cobertura. Estos informes muestran el porcentaje de cobertura de código a nivel de línea, rama y método.\n",
    "\n",
    "Los informes de cobertura generados por *JaCoCo* son muy útiles para identificar áreas del código que no están siendo probadas adecuadamente. Esto permite a los desarrolladores y equipos de prueba mejorar la calidad de las pruebas, aumentando la cobertura y asegurando una mayor confiabilidad del software"
   ]
  },
  {
   "cell_type": "markdown",
   "metadata": {},
   "source": [
    "### Integración con herramientas de construcción y entornos de desarrollo.\n",
    "\n",
    "*JaCoCo* se puede integrar fácilmente en el proceso de construcción de proyectos *Java* y en los entornos de desarrollo más populares. Es compatible con herramientas como *Apache Ant*, *Maven* y *Gradle*. También ofrece plugins para *IDEs* como *Eclipse* e *IntelliJ IDEA*, lo que facilita la visualización de la cobertura directamente en el entorno de desarrollo."
   ]
  },
  {
   "cell_type": "markdown",
   "metadata": {},
   "source": [
    "<p style=\"text-align: center\"><a rel=\"license\" href=\"http://creativecommons.org/licenses/by/4.0/\"><img alt=\"Licencia Creative Commons\" style=\"border-width:0\" src=\"https://i.creativecommons.org/l/by/4.0/80x15.png\" /></a><br />Esta obra está bajo una <a rel=\"license\" href=\"http://creativecommons.org/licenses/by/4.0/\">Licencia Creative Commons Atribución 4.0 Internacional</a>.</p>\n",
    "<p style=\"text-align: center\">&copy; José Luis Chiquete Valdivieso. 2023.</p>"
   ]
  }
 ],
 "metadata": {
  "kernelspec": {
   "display_name": "Python 3 (ipykernel)",
   "language": "python",
   "name": "python3"
  },
  "language_info": {
   "codemirror_mode": {
    "name": "ipython",
    "version": 3
   },
   "file_extension": ".py",
   "mimetype": "text/x-python",
   "name": "python",
   "nbconvert_exporter": "python",
   "pygments_lexer": "ipython3",
   "version": "3.10.6"
  }
 },
 "nbformat": 4,
 "nbformat_minor": 2
}
