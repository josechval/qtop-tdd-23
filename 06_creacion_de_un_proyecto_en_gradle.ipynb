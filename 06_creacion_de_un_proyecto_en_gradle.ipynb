{
 "cells": [
  {
   "cell_type": "markdown",
   "id": "f483639e-c1fb-44c6-9324-377443df7ef1",
   "metadata": {},
   "source": [
    "# Creación de un proyecto con Gradle."
   ]
  },
  {
   "cell_type": "markdown",
   "id": "7011aa19-2970-4644-95ac-e21eb94ceb27",
   "metadata": {},
   "source": [
    "## Instalación del JDK en Debian."
   ]
  },
  {
   "cell_type": "code",
   "execution_count": null,
   "id": "7ebd672f",
   "metadata": {},
   "outputs": [],
   "source": [
    "sudo apt update && sudo apt upgrade -y && sudo apt install openjdk-17-jdk-headless -y"
   ]
  },
  {
   "cell_type": "markdown",
   "id": "8e39ec14-1384-4232-9b6c-257aba3c2b18",
   "metadata": {},
   "source": [
    "## Instalación de Gradle."
   ]
  },
  {
   "cell_type": "markdown",
   "id": "a3ca9dc4-64f1-4086-b70a-b9aaf2ff5d46",
   "metadata": {},
   "source": [
    "La documentación de *Gradle* puede ser consultada en:\n",
    "\n",
    "https://docs.gradle.org/current/userguide/userguide.html"
   ]
  },
  {
   "cell_type": "markdown",
   "id": "d5d26773-c6a2-4722-a2f8-61771b44aacc",
   "metadata": {},
   "source": [
    "* La siguiente celda descargará el paquete de binarios de la versión 8.2.1 de *Gradle* y lo instalará en el sistema."
   ]
  },
  {
   "cell_type": "code",
   "execution_count": null,
   "id": "353b6a70",
   "metadata": {},
   "outputs": [],
   "source": [
    "wget https://services.gradle.org/distributions/gradle-8.2.1-bin.zip\n",
    "sudo unzip gradle-8.2.1-bin.zip -d /opt/\n",
    "sudo ln -sf /opt/gradle-8.2.1/bin/gradle /usr/bin/gradle\n",
    "gradle -v\n",
    "rm gradle-8.2.1-bin.zip"
   ]
  },
  {
   "cell_type": "markdown",
   "id": "2afd1a4c-f3da-4c3d-8ba0-c0985b4f3468",
   "metadata": {},
   "source": [
    "## Introducción a *Gradle*."
   ]
  },
  {
   "cell_type": "markdown",
   "id": "b99dc804-cee4-4754-a4f4-cfe3a5f84676",
   "metadata": {},
   "source": [
    "Gradle se ha convertido en una herramienta esencial en el mundo del desarrollo de software, especialmente en el ecosistema Java. Proporciona una forma eficiente y flexible de automatizar la construcción y gestión de proyectos, así como la ejecución de tareas específicas. En este artículo, exploraremos dos aspectos fundamentales de Gradle en proyectos de Java: la inicialización de proyectos con `gradle init` y el concepto de tareas.\n",
    "\n",
    "### Inicialización de Proyectos con `gradle init`\n",
    "\n",
    "Cuando se comienza un nuevo proyecto en Java, es importante establecer una estructura sólida para el manejo de código fuente, recursos y dependencias. Gradle simplifica este proceso con su comando `gradle init`. Este comando permite generar una estructura básica para tu proyecto, incluyendo archivos y directorios esenciales.\n",
    "\n",
    "Para inicializar un nuevo proyecto de Java con Gradle, sigue estos pasos:\n",
    "\n",
    "1. **Instalación de Gradle**: Si aún no tienes Gradle instalado, puedes descargarlo desde el sitio oficial (https://gradle.org/) o utilizar un sistema de gestión de paquetes, como SDKMAN o Homebrew. Asegúrate de tener Java instalado en tu sistema también.\n",
    "\n",
    "2. **Creación del Proyecto**: Abre una terminal en el directorio donde deseas crear tu proyecto y ejecuta el siguiente comando:\n",
    "\n",
    "   ```bash\n",
    "   gradle init --type java-application\n",
    "   ```\n",
    "\n",
    "   Esto le indica a Gradle que inicie un nuevo proyecto de tipo \"java-application\".\n",
    "\n",
    "3. **Configuración Interactiva**: Gradle te guiará a través de una serie de preguntas interactivas para personalizar la configuración de tu proyecto, como el nombre del proyecto, el paquete base y las opciones de prueba.\n",
    "\n",
    "Una vez que completes este proceso, Gradle generará la estructura inicial del proyecto, que incluirá archivos como `build.gradle` (donde se define la configuración del proyecto), `src/main/java` (para el código fuente principal) y `src/test/java` (para las pruebas unitarias).\n",
    "\n",
    "### El Concepto de Tareas en Gradle\n",
    "\n",
    "En Gradle, las tareas son unidades fundamentales de trabajo. Representan acciones específicas que Gradle puede realizar, como compilar código, ejecutar pruebas, construir un archivo JAR y más. Cada tarea tiene un nombre y puede depender de otras tareas, lo que permite definir un flujo de trabajo completo para la construcción y gestión del proyecto.\n",
    "\n",
    "Algunas tareas comunes en un proyecto de Java incluyen:\n",
    "\n",
    "- `compileJava`: Compila el código fuente Java en archivos de clase.\n",
    "- `compileTestJava`: Compila las pruebas unitarias.\n",
    "- `test`: Ejecuta las pruebas unitarias.\n",
    "- `build`: Construye el artefacto final, como un archivo JAR, combinando las tareas anteriores.\n",
    "\n",
    "Puedes ejecutar una tarea específica utilizando el siguiente comando:\n",
    "\n",
    "```bash\n",
    "gradle <nombre-de-la-tarea>\n",
    "```\n",
    "\n",
    "Por ejemplo, para compilar el código fuente Java, puedes ejecutar:\n",
    "\n",
    "```bash\n",
    "gradle compileJava\n",
    "```\n",
    "\n",
    "### Personalización de Tareas y Configuración\n",
    "\n",
    "Una de las ventajas clave de Gradle es su flexibilidad y capacidad de personalización. Puedes modificar y agregar tareas, así como ajustar la configuración del proyecto, según tus necesidades específicas. Esto se logra principalmente a través del archivo `build.gradle`.\n",
    "\n",
    "Dentro del archivo `build.gradle`, puedes definir dependencias, plugins, configuración de tareas y más. Por ejemplo, para agregar una dependencia a tu proyecto, puedes utilizar la siguiente sintaxis:\n",
    "\n",
    "```groovy\n",
    "dependencies {\n",
    "    implementation 'grupo:nombre-de-la-dependencia:versión'\n",
    "}\n",
    "```\n",
    "\n",
    "### Conclusión\n",
    "\n",
    "Gradle es una herramienta esencial para el desarrollo de proyectos de Java, facilitando la automatización de tareas y la gestión de proyectos. La inicialización de proyectos con `gradle init` te proporciona una estructura básica, mientras que las tareas te permiten realizar acciones específicas en tu proyecto. Personalizar la configuración a través del archivo `build.gradle` te brinda un control total sobre la construcción y gestión de tu proyecto Java. Con una comprensión sólida de estas capacidades, estarás bien equipado para desarrollar proyectos de Java de manera eficiente y efectiva utilizando Gradle."
   ]
  },
  {
   "cell_type": "markdown",
   "id": "7e338713-123e-4e71-8eaa-ebdab8f261d0",
   "metadata": {},
   "source": [
    "## Creación de un proyecto de *Java*."
   ]
  },
  {
   "cell_type": "markdown",
   "id": "a25d6bb8-9745-419b-a6ca-7d3b59c37bce",
   "metadata": {},
   "source": [
    "* Se creará el directorio ```/opt/oi/demo``` y se posicionará al al *notebook* en dicho directorio."
   ]
  },
  {
   "cell_type": "code",
   "execution_count": null,
   "id": "e2821dbe",
   "metadata": {},
   "outputs": [],
   "source": [
    "mkdir /opt/oi/demo"
   ]
  },
  {
   "cell_type": "code",
   "execution_count": null,
   "id": "83b7ba5a-384b-4372-9e45-51e451efd20a",
   "metadata": {},
   "outputs": [],
   "source": [
    "cd /opt/oi/demo"
   ]
  },
  {
   "cell_type": "markdown",
   "id": "c672d80a-6b1b-41f1-bf18-cd055028b122",
   "metadata": {},
   "source": [
    "* Es necesario ejecutar cada uno de los soguientes comandos en una terminal."
   ]
  },
  {
   "cell_type": "markdown",
   "id": "dc237e89-ff28-4325-9e35-7a1a8d2df96f",
   "metadata": {},
   "source": [
    "```bash\n",
    "cd /opt/oi/demo\n",
    "```"
   ]
  },
  {
   "attachments": {},
   "cell_type": "markdown",
   "id": "119a560a-b370-4e73-a2c6-6384c9864ff4",
   "metadata": {},
   "source": [
    "``` bash\n",
    " gradle init --type java-application --test-framework junit-jupiter --project-name com.cloudevel.demo --dsl groovy\n",
    "```"
   ]
  },
  {
   "cell_type": "markdown",
   "id": "ff1f2139-f34d-4d24-bc49-9ca81345a6eb",
   "metadata": {},
   "source": [
    "En la terminal, dar ```Enter``` a los valores por defecto."
   ]
  },
  {
   "cell_type": "markdown",
   "id": "27c5610c-645d-4b3d-9e5b-d6c72facacf5",
   "metadata": {},
   "source": [
    "<img src=\"img/gradle-java.png\" width=\"70%\">"
   ]
  },
  {
   "cell_type": "markdown",
   "id": "97049138-0670-4c2a-88d2-38ac5a66b744",
   "metadata": {},
   "source": [
    "* El comando ```gradle init``` creará una estructura como la siguente:"
   ]
  },
  {
   "cell_type": "markdown",
   "id": "47a82719-e072-471d-92ad-965c2aeff67e",
   "metadata": {},
   "source": [
    "```gradle\n",
    ".\n",
    "├── app\n",
    "│   ├── build.gradle\n",
    "│   └── src\n",
    "│       ├── main\n",
    "│       │   ├── java\n",
    "│       │   │   └── com\n",
    "│       │   │       └── cloudevel\n",
    "│       │   │           └── demo\n",
    "│       │   │               └── App.java\n",
    "│       │   └── resources\n",
    "│       └── test\n",
    "│           ├── java\n",
    "│           │   └── com\n",
    "│           │       └── cloudevel\n",
    "│           │           └── demo\n",
    "│           │               └── AppTest.java\n",
    "│           └── resources\n",
    "├── gradle\n",
    "│   └── wrapper\n",
    "│       ├── gradle-wrapper.jar\n",
    "│       └── gradle-wrapper.properties\n",
    "├── gradlew\n",
    "├── gradlew.bat\n",
    "└── settings.gradle\n",
    "\n",
    "17 directories, 8 files\n",
    "```"
   ]
  },
  {
   "cell_type": "code",
   "execution_count": null,
   "id": "ccff01ee-a02d-40e6-8d87-e95b4f49e2b9",
   "metadata": {},
   "outputs": [],
   "source": [
    "tree /opt/oi/demo"
   ]
  },
  {
   "cell_type": "markdown",
   "id": "bb6339fa-5c1c-4e0d-a893-4aef820f8447",
   "metadata": {},
   "source": [
    "* El proyecto contiene el código de *\"Hello World\"* en ```app/src/main/java/com/cloudevel/demo/App.java```."
   ]
  },
  {
   "cell_type": "code",
   "execution_count": null,
   "id": "71b79768-30b3-49b2-be90-8bcb01601e7e",
   "metadata": {},
   "outputs": [],
   "source": [
    "cat app/src/main/java/com/cloudevel/demo/App.java"
   ]
  },
  {
   "cell_type": "markdown",
   "id": "8c58faf7-1c70-470d-b29b-2cf1d98d3a06",
   "metadata": {},
   "source": [
    "* La siguiente celda correrá la tarea (*task*) ```run``` y ejecutará la aplicación."
   ]
  },
  {
   "cell_type": "code",
   "execution_count": null,
   "id": "05ef38c7-86bc-4718-be3e-44d038c93fbc",
   "metadata": {},
   "outputs": [],
   "source": [
    "gradle run"
   ]
  },
  {
   "cell_type": "markdown",
   "id": "9d3ba242-3e37-4429-b96a-79c6dfe23b24",
   "metadata": {},
   "source": [
    "* El proyecto también contiene el código de una prueba simple en ```/app/src/test/java/com/cloudevel/demo/AppTest.java```"
   ]
  },
  {
   "cell_type": "code",
   "execution_count": null,
   "id": "4c91acac-2e61-494e-9c54-e73f1d0c2695",
   "metadata": {
    "scrolled": true
   },
   "outputs": [],
   "source": [
    "cat app/src/test/java/com/cloudevel/demo/AppTest.java"
   ]
  },
  {
   "cell_type": "markdown",
   "id": "1443f4d6-8fac-4613-9670-fd88303c046d",
   "metadata": {},
   "source": [
    "* La siguiente celda correrá la tarea (*task*) ```run``` y ejecutará la aplicación."
   ]
  },
  {
   "cell_type": "code",
   "execution_count": null,
   "id": "e7bc8eb1-278d-433b-a8ad-daf03ae416f7",
   "metadata": {},
   "outputs": [],
   "source": [
    "gradle test"
   ]
  },
  {
   "cell_type": "markdown",
   "id": "d3454429-61ea-4a5d-b94d-f8f6f64dd0d6",
   "metadata": {},
   "source": [
    "```groovy\n",
    "\n",
    "```"
   ]
  }
 ],
 "metadata": {
  "kernelspec": {
   "display_name": "Bash",
   "language": "bash",
   "name": "bash"
  },
  "language_info": {
   "codemirror_mode": "shell",
   "file_extension": ".sh",
   "mimetype": "text/x-sh",
   "name": "bash"
  }
 },
 "nbformat": 4,
 "nbformat_minor": 5
}
