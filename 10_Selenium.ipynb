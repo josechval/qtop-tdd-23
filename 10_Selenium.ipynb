{
 "cells": [
  {
   "cell_type": "markdown",
   "id": "fa78a326",
   "metadata": {},
   "source": [
    "# Selenium."
   ]
  },
  {
   "cell_type": "markdown",
   "id": "afb9363c",
   "metadata": {},
   "source": [
    "La automatización de pruebas en aplicaciones web se ha vuelto esencial para garantizar la calidad del software. *Selenium WebDriver*, una parte fundamental del framework Selenium, ha revolucionado la forma en que se llevan a cabo estas pruebas.\n",
    "\n",
    "https://www.selenium.dev/documentation/webdriver/"
   ]
  },
  {
   "cell_type": "markdown",
   "id": "6711a754",
   "metadata": {},
   "source": [
    "# *Selenium WebDriver*."
   ]
  },
  {
   "cell_type": "markdown",
   "id": "75a5acbc",
   "metadata": {},
   "source": [
    "*Selenium WebDriver* es una *API* que permite a los desarrolladores automatizar la interacción con navegadores web. En esencia, *WebDriver* actúa como un controlador que enlaza su código con un navegador real, lo que le permite manipular la página web, interactuar con elementos y verificar resultados, todo a través de comandos programáticos."
   ]
  },
  {
   "cell_type": "markdown",
   "id": "c85bdce5",
   "metadata": {},
   "source": [
    "## Funcionamiento de *Selenium WebDriver*."
   ]
  },
  {
   "cell_type": "markdown",
   "id": "6aa5b79a",
   "metadata": {},
   "source": [
    "### 1. Configuración del Entorno.\n",
    "\n",
    "   Para comenzar, es necesario configurar el entorno. Esto implica instalar *Selenium WebDriver*, el controlador del navegador (por ejemplo, [*ChromeDriver*](https://chromedriver.chromium.org/downloads) para *Google Chrome*) y las bibliotecas necesarias en el lenguaje de programación elegido (*Java*, *Python*, *C#*, etc.)."
   ]
  },
  {
   "cell_type": "markdown",
   "id": "4d3e2e76",
   "metadata": {},
   "source": [
    "### 2. Creación de una Instancia del Controlador del Navegador.\n",
    "\n",
    "   Una vez configurado el entorno, creamos una instancia de WebDriver que se conectará a un navegador específico.\n",
    "   \n",
    "   \n",
    "   ```java\n",
    "   WebDriver driver = new ChromeDriver();  // Crear una instancia de ChromeDriver\n",
    "   ```"
   ]
  },
  {
   "cell_type": "markdown",
   "id": "900dcfef",
   "metadata": {},
   "source": [
    "### 3. **Navegación a una Página Web:**\n",
    "\n",
    "Se utiliza el objeto `driver` para navegar a una URL específica.\n",
    "\n",
    "   ```java\n",
    "   driver.get(\"https://www.example.com\");  // Navegar a la URL\n",
    "   ```"
   ]
  },
  {
   "cell_type": "markdown",
   "id": "b8f51c85",
   "metadata": {},
   "source": [
    "### 4. **Identificación de Elementos y Acciones:**\n",
    "\n",
    "Los métodos proporcionados por *WebDriver* permiten interactuar con elementos en la página web, como hacer clic, llenar formularios, etc.\n",
    "\n",
    "   ```java\n",
    "   WebElement searchBox = driver.findElement(By.id(\"search-box\"));  // Encontrar un elemento por ID\n",
    "   searchBox.sendKeys(\"Selenium WebDriver\");  // Ingresar texto en la caja de búsqueda\n",
    "   ```"
   ]
  },
  {
   "cell_type": "markdown",
   "id": "552b9595",
   "metadata": {},
   "source": [
    "## 5. Espera de sincronización.\n",
    "\n",
    "Las esperas son fundamentales para sincronizar las acciones con la carga de la página. *Selenium* proporciona esperas explícitas e implícitas para asegurarse de que los elementos estén presentes y listos antes de interactuar con ellos.\n",
    "\n",
    "   ```java\n",
    "   WebDriverWait wait = new WebDriverWait(driver, 10);  // Configurar una espera\n",
    "   WebElement element = wait.until(ExpectedConditions.visibilityOfElementLocated(By.id(\"element-id\")));  // Esperar hasta que el elemento sea visible\n",
    "   ```"
   ]
  },
  {
   "cell_type": "markdown",
   "id": "fa8342d9",
   "metadata": {},
   "source": [
    "### 6. Verificación y Validación.\n",
    "\n",
    "Después de interactuar con los elementos, es nedcesario verificar los resultados utilizando aserciones y comprobaciones.\n",
    "\n",
    "   ```java\n",
    "   String pageTitle = driver.getTitle();  // Obtener el título de la página\n",
    "   assertEquals(\"Título de la Página\", pageTitle);  // Verificar el título de la página\n",
    "```"
   ]
  },
  {
   "cell_type": "markdown",
   "id": "abc9d816",
   "metadata": {},
   "source": [
    "### 7. Cierre del Navegador.\n",
    "\n",
    "Finalmente, es nerecaerio cerrar el navegador cuando hemos terminado con las pruebas.\n",
    "\n",
    "   ```java\n",
    "   driver.quit();  // Cerrar el navegador y finalizar la sesión\n",
    "   ```"
   ]
  },
  {
   "cell_type": "markdown",
   "id": "df979aea",
   "metadata": {},
   "source": [
    "## El objeto ```driver```."
   ]
  },
  {
   "cell_type": "markdown",
   "id": "b2018d3c",
   "metadata": {},
   "source": [
    "Los métodos principales proporcionados por los objetos instanciados de  *WebDriver* en *Selenium* son fundamentales para interactuar con un navegador y automatizar las pruebas en aplicaciones web."
   ]
  },
  {
   "cell_type": "markdown",
   "id": "f8bb74e1",
   "metadata": {},
   "source": [
    "### Métodos principales de *driver*."
   ]
  },
  {
   "cell_type": "markdown",
   "id": "fde883ae",
   "metadata": {},
   "source": [
    "\n",
    "1. **`get(String url)`**:\n",
    "   - Descripción: Navega a la URL especificada.\n",
    "   - Ejemplo:\n",
    "     ```java\n",
    "     driver.get(\"https://www.example.com\");\n",
    "     ```\n",
    "\n",
    "2. **`findElement(By locator)`**:\n",
    "   - Descripción: Encuentra el primer elemento que coincide con el selector especificado.\n",
    "   - Ejemplo:\n",
    "     ```java\n",
    "     WebElement element = driver.findElement(By.id(\"element-id\"));\n",
    "     ```\n",
    "\n",
    "3. **`findElements(By locator)`**:\n",
    "   - Descripción: Encuentra todos los elementos que coinciden con el selector especificado.\n",
    "   - Ejemplo:\n",
    "     ```java\n",
    "     List<WebElement> elements = driver.findElements(By.className(\"element-class\"));\n",
    "     ```\n",
    "\n",
    "4. **`getTitle()`**:\n",
    "   - Descripción: Obtiene el título de la página actual.\n",
    "   - Ejemplo:\n",
    "     ```java\n",
    "     String pageTitle = driver.getTitle();\n",
    "     ```\n",
    "\n",
    "5. **`getCurrentUrl()`**:\n",
    "   - Descripción: Obtiene la URL actual de la página.\n",
    "   - Ejemplo:\n",
    "     ```java\n",
    "     String currentUrl = driver.getCurrentUrl();\n",
    "     ```\n",
    "\n",
    "6. **`sendKeys(CharSequence... keysToSend)`**:\n",
    "   - Descripción: Envía una secuencia de caracteres (como texto) a un elemento.\n",
    "   - Ejemplo:\n",
    "     ```java\n",
    "     WebElement searchBox = driver.findElement(By.id(\"search-box\"));\n",
    "     searchBox.sendKeys(\"Selenium WebDriver\");\n",
    "     ```\n",
    "\n",
    "7. **`click()`**:\n",
    "   - Descripción: Realiza un clic en el elemento.\n",
    "   - Ejemplo:\n",
    "     ```java\n",
    "     WebElement button = driver.findElement(By.id(\"button-id\"));\n",
    "     button.click();\n",
    "     ```\n",
    "\n",
    "8. **`clear()`**:\n",
    "   - Descripción: Borra el contenido de un campo de entrada.\n",
    "   - Ejemplo:\n",
    "     ```java\n",
    "     WebElement inputField = driver.findElement(By.name(\"input-name\"));\n",
    "     inputField.clear();\n",
    "     ```\n",
    "\n",
    "9. **`isDisplayed()`**:\n",
    "   - Descripción: Verifica si el elemento está visible en la página.\n",
    "   - Ejemplo:\n",
    "     ```java\n",
    "     WebElement element = driver.findElement(By.className(\"element-class\"));\n",
    "     boolean isVisible = element.isDisplayed();\n",
    "     ```\n",
    "\n",
    "10. **`isEnabled()`**:\n",
    "   - Descripción: Verifica si el elemento está habilitado (no deshabilitado) en la página.\n",
    "   - Ejemplo:\n",
    "     ```java\n",
    "     WebElement button = driver.findElement(By.id(\"button-id\"));\n",
    "     boolean isEnabled = button.isEnabled();\n",
    "     ```\n",
    "\n",
    "11. **`isSelected()`**:\n",
    "   - Descripción: Verifica si el elemento está seleccionado (como una casilla de verificación) en la página.\n",
    "   - Ejemplo:\n",
    "     ```java\n",
    "     WebElement checkbox = driver.findElement(By.id(\"checkbox-id\"));\n",
    "     boolean isSelected = checkbox.isSelected();\n",
    "     ```\n",
    "\n",
    "12. **`quit()`**:\n",
    "   - Descripción: Cierra la sesión del navegador y libera los recursos.\n",
    "   - Ejemplo:\n",
    "     ```java\n",
    "     driver.quit();\n",
    "     ```"
   ]
  },
  {
   "cell_type": "markdown",
   "id": "ff9bd9e0",
   "metadata": {},
   "source": [
    "## Componentes principales del *framework*."
   ]
  },
  {
   "cell_type": "markdown",
   "id": "0f7cc440",
   "metadata": {},
   "source": [
    "1. **WebDriver:**\n",
    "\n",
    "   **Descripción:** WebDriver es la interfaz principal para la automatización de pruebas en Selenium. Proporciona métodos para interactuar con navegadores web.\n",
    "\n",
    "   **Ejemplo:** Abrir un navegador y navegar a una URL.\n",
    "\n",
    "   ```java\n",
    "   WebDriver driver = new ChromeDriver();  // Crear una instancia de ChromeDriver\n",
    "   driver.get(\"https://www.example.com\");  // Navegar a una URL\n",
    "   ```\n",
    "\n",
    "2. **WebElement:**\n",
    "\n",
    "   **Descripción:** WebElement representa un elemento en una página web, como botones, enlaces, campos de texto, etc.\n",
    "\n",
    "   **Ejemplo:** Hacer clic en un botón.\n",
    "\n",
    "   ```java\n",
    "   WebElement button = driver.findElement(By.id(\"boton-id\"));  // Encontrar un elemento por ID\n",
    "   button.click();  // Hacer clic en el botón\n",
    "   ```\n",
    "\n",
    "3. **Esperas Explícitas e Implícitas:**\n",
    "\n",
    "   **Descripción:** Las esperas permiten que las pruebas esperen a que ocurran ciertas condiciones antes de continuar.\n",
    "\n",
    "   **Ejemplo:** Esperar hasta que un elemento sea visible.\n",
    "\n",
    "   ```java\n",
    "   WebDriverWait wait = new WebDriverWait(driver, 10);  // Configurar una espera\n",
    "   WebElement element = wait.until(ExpectedConditions.visibilityOfElementLocated(By.id(\"elemento-id\")));  // Esperar hasta que el elemento sea visible\n",
    "   ```\n",
    "\n",
    "4. **Page Object Model (POM):**\n",
    "\n",
    "   **Descripción:** POM es un patrón de diseño que organiza la estructura de las páginas web en clases, separando la lógica de prueba de la estructura de la página.\n",
    "\n",
    "   **Ejemplo:** Crear una clase para representar una página.\n",
    "\n",
    "   ```java\n",
    "   public class LoginPage {\n",
    "       private WebDriver driver;\n",
    "\n",
    "       public LoginPage(WebDriver driver) {\n",
    "           this.driver = driver;\n",
    "       }\n",
    "\n",
    "       public void login(String username, String password) {\n",
    "           WebElement usernameInput = driver.findElement(By.id(\"username\"));\n",
    "           WebElement passwordInput = driver.findElement(By.id(\"password\"));\n",
    "           WebElement loginButton = driver.findElement(By.id(\"login-button\"));\n",
    "\n",
    "           usernameInput.sendKeys(username);\n",
    "           passwordInput.sendKeys(password);\n",
    "           loginButton.click();\n",
    "       }\n",
    "   }\n",
    "   ```\n",
    "\n",
    "5. **Page Factory:**\n",
    "\n",
    "   **Descripción:** Page Factory simplifica la inicialización de elementos utilizando anotaciones como `@FindBy`.\n",
    "\n",
    "   **Ejemplo:** Utilizar Page Factory para inicializar elementos.\n",
    "\n",
    "   ```java\n",
    "   public class LoginPageWithFactory {\n",
    "       private WebDriver driver;\n",
    "\n",
    "       @FindBy(id = \"username\")\n",
    "       private WebElement usernameInput;\n",
    "\n",
    "       @FindBy(id = \"password\")\n",
    "       private WebElement passwordInput;\n",
    "\n",
    "       @FindBy(id = \"login-button\")\n",
    "       private WebElement loginButton;\n",
    "\n",
    "       public LoginPageWithFactory(WebDriver driver) {\n",
    "           this.driver = driver;\n",
    "           PageFactory.initElements(driver, this);\n",
    "       }\n",
    "\n",
    "       public void login(String username, String password) {\n",
    "           usernameInput.sendKeys(username);\n",
    "           passwordInput.sendKeys(password);\n",
    "           loginButton.click();\n",
    "       }\n",
    "   }\n",
    "   ```\n",
    "\n",
    "6. **Selectores Web:**\n",
    "\n",
    "   **Descripción:** Los selectores web identifican elementos en una página web.\n",
    "\n",
    "   **Ejemplo:** Usar diferentes tipos de selectores.\n",
    "\n",
    "   ```java\n",
    "   WebElement elementById = driver.findElement(By.id(\"elemento-id\"));\n",
    "   WebElement elementByName = driver.findElement(By.name(\"nombre\"));\n",
    "   WebElement elementByXpath = driver.findElement(By.xpath(\"//div[@class='clase']\"));\n",
    "   WebElement elementByCssSelector = driver.findElement(By.cssSelector(\".clase\"));\n",
    "   ```\n",
    "\n",
    "Estos son algunos de los componentes clave del framework de Selenium en Java. Combinar estos elementos te permitirá crear pruebas de automatización efectivas y mantenibles para tus aplicaciones web."
   ]
  },
  {
   "cell_type": "markdown",
   "id": "8c2d2b05",
   "metadata": {},
   "source": [
    "<p style=\"text-align: center\"><a rel=\"license\" href=\"http://creativecommons.org/licenses/by/4.0/\"><img alt=\"Licencia Creative Commons\" style=\"border-width:0\" src=\"https://i.creativecommons.org/l/by/4.0/80x15.png\" /></a><br />Esta obra está bajo una <a rel=\"license\" href=\"http://creativecommons.org/licenses/by/4.0/\">Licencia Creative Commons Atribución 4.0 Internacional</a>.</p>\n",
    "<p style=\"text-align: center\">&copy; José Luis Chiquete Valdivieso. 2023.</p>"
   ]
  }
 ],
 "metadata": {
  "kernelspec": {
   "display_name": "Python 3 (ipykernel)",
   "language": "python",
   "name": "python3"
  },
  "language_info": {
   "codemirror_mode": {
    "name": "ipython",
    "version": 3
   },
   "file_extension": ".py",
   "mimetype": "text/x-python",
   "name": "python",
   "nbconvert_exporter": "python",
   "pygments_lexer": "ipython3",
   "version": "3.10.12"
  }
 },
 "nbformat": 4,
 "nbformat_minor": 5
}
