{
 "cells": [
  {
   "cell_type": "code",
   "execution_count": null,
   "id": "7ebd672f",
   "metadata": {
    "scrolled": false
   },
   "outputs": [],
   "source": [
    "sudo apt update && sudo apt upgrade -y && sudo apt install openjdk-17-jdk-headless -y"
   ]
  },
  {
   "cell_type": "code",
   "execution_count": null,
   "id": "f9c59d99",
   "metadata": {},
   "outputs": [],
   "source": [
    "which java"
   ]
  },
  {
   "cell_type": "code",
   "execution_count": null,
   "id": "2cfb60f5",
   "metadata": {},
   "outputs": [],
   "source": [
    "wget https://services.gradle.org/distributions/gradle-8.2.1-bin.zip"
   ]
  },
  {
   "cell_type": "code",
   "execution_count": null,
   "id": "353b6a70",
   "metadata": {},
   "outputs": [],
   "source": [
    "sudo unzip gradle-8.2.1-bin.zip -d /opt/\n",
    "sudo ln -sf /opt/gradle-8.2.1/bin/gradle /usr/bin/gradle\n",
    "gradle -v"
   ]
  },
  {
   "cell_type": "code",
   "execution_count": null,
   "id": "dcb0c6b7",
   "metadata": {},
   "outputs": [],
   "source": [
    "rm gradle-8.2.1-bin.zip"
   ]
  },
  {
   "cell_type": "code",
   "execution_count": null,
   "id": "e2821dbe",
   "metadata": {},
   "outputs": [],
   "source": [
    "mkdir /opt/oi/demo"
   ]
  },
  {
   "cell_type": "code",
   "execution_count": null,
   "id": "0f678cfb",
   "metadata": {},
   "outputs": [],
   "source": [
    "cd /opt/oi/demo"
   ]
  },
  {
   "cell_type": "code",
   "execution_count": null,
   "id": "ae23e12d",
   "metadata": {},
   "outputs": [],
   "source": [
    "gradle init --type java-application --test-framework junit-jupiter --project-name com.cloudevel.demo --dsl groovy"
   ]
  },
  {
   "cell_type": "code",
   "execution_count": null,
   "id": "89d03f2c",
   "metadata": {},
   "outputs": [],
   "source": [
    "tree"
   ]
  },
  {
   "cell_type": "code",
   "execution_count": null,
   "id": "483d4f71",
   "metadata": {},
   "outputs": [],
   "source": []
  }
 ],
 "metadata": {
  "kernelspec": {
   "display_name": "Bash",
   "language": "bash",
   "name": "bash"
  },
  "language_info": {
   "codemirror_mode": "shell",
   "file_extension": ".sh",
   "mimetype": "text/x-sh",
   "name": "bash"
  }
 },
 "nbformat": 4,
 "nbformat_minor": 5
}
