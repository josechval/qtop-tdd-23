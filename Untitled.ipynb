{
 "cells": [
  {
   "cell_type": "code",
   "execution_count": 1,
   "id": "7ebd672f",
   "metadata": {
    "scrolled": false
   },
   "outputs": [
    {
     "name": "stdout",
     "output_type": "stream",
     "text": [
      "Hit:1 http://deb.debian.org/debian bookworm InRelease\n",
      "Get:2 http://security.debian.org/debian-security bookworm-security InRelease [48.0 kB]\n",
      "Get:3 http://deb.debian.org/debian bookworm-updates InRelease [52.1 kB]\n",
      "Fetched 100 kB in 1s (98.8 kB/s)    \u001b[0m\u001b[33m                        \u001b[0m\u001b[33m\n",
      "Reading package lists... 0%Reading package lists... 0%Reading package lists... 0%Reading package lists... 59%Reading package lists... 59%Reading package lists... 98%Reading package lists... 98%Reading package lists... 98%Reading package lists... 98%Reading package lists... 98%Reading package lists... 98%Reading package lists... 99%Reading package lists... 99%Reading package lists... 99%Reading package lists... 99%Reading package lists... 99%Reading package lists... 99%Reading package lists... 99%Reading package lists... 99%Reading package lists... 99%Reading package lists... 99%Reading package lists... 99%Reading package lists... 99%Reading package lists... Done\n",
      "Building dependency tree... 0%Building dependency tree... 0%Building dependency tree... 0%Building dependency tree... 50%Building dependency tree... 50%Building dependency tree... Done\n",
      "Reading state information... 0% Reading state information... 0%Reading state information... Done\n",
      "All packages are up to date.\n",
      "Reading package lists... 0%Reading package lists... 100%Reading package lists... Done\n",
      "Building dependency tree... 0%Building dependency tree... 0%Building dependency tree... 50%Building dependency tree... 50%Building dependency tree... Done\n",
      "Reading state information... 0% Reading state information... 0%Reading state information... Done\n",
      "Calculating upgrade... 0%Calculating upgrade... 10%Calculating upgrade... Done\n",
      "0 upgraded, 0 newly installed, 0 to remove and 0 not upgraded.\n",
      "Reading package lists... 0%Reading package lists... 100%Reading package lists... Done\n",
      "Building dependency tree... 0%Building dependency tree... 0%Building dependency tree... 50%Building dependency tree... 50%Building dependency tree... Done\n",
      "Reading state information... 0% Reading state information... 0%Reading state information... Done\n",
      "openjdk-17-jdk-headless is already the newest version (17.0.8+7-1~deb12u1).\n",
      "0 upgraded, 0 newly installed, 0 to remove and 0 not upgraded.\n"
     ]
    }
   ],
   "source": [
    "sudo apt update && sudo apt upgrade -y && sudo apt install openjdk-17-jdk-headless -y"
   ]
  },
  {
   "cell_type": "code",
   "execution_count": 2,
   "id": "f9c59d99",
   "metadata": {},
   "outputs": [
    {
     "name": "stdout",
     "output_type": "stream",
     "text": [
      "/usr/bin/java\n"
     ]
    }
   ],
   "source": [
    "which java"
   ]
  },
  {
   "cell_type": "code",
   "execution_count": null,
   "id": "2cfb60f5",
   "metadata": {},
   "outputs": [],
   "source": [
    "wget https://services.gradle.org/distributions/gradle-8.2.1-bin.zip"
   ]
  },
  {
   "cell_type": "code",
   "execution_count": null,
   "id": "353b6a70",
   "metadata": {},
   "outputs": [],
   "source": [
    "sudo unzip gradle-8.2.1-bin.zip -d /opt/\n",
    "sudo ln -sf /opt/gradle-8.2.1/bin/gradle /usr/bin/gradle\n",
    "gradle -v"
   ]
  },
  {
   "cell_type": "code",
   "execution_count": 4,
   "id": "8ad02f85",
   "metadata": {},
   "outputs": [],
   "source": [
    "rm gradle-8.2.1-bin.zip"
   ]
  },
  {
   "cell_type": "code",
   "execution_count": 9,
   "id": "e2821dbe",
   "metadata": {},
   "outputs": [],
   "source": [
    "mkdir /opt/oi/demo"
   ]
  },
  {
   "cell_type": "code",
   "execution_count": 10,
   "id": "0f678cfb",
   "metadata": {},
   "outputs": [],
   "source": [
    "cd /opt/oi/demo"
   ]
  },
  {
   "cell_type": "code",
   "execution_count": null,
   "id": "ae23e12d",
   "metadata": {},
   "outputs": [
    {
     "name": "stdout",
     "output_type": "stream",
     "text": [
      "> Task :wrapper UP-TO-DATE\n",
      "\n"
     ]
    }
   ],
   "source": [
    "gradle init --type java-application --test-framework junit-jupiter --project-name com.cloudevel.demo --dsl groovy"
   ]
  },
  {
   "cell_type": "code",
   "execution_count": null,
   "id": "89d03f2c",
   "metadata": {},
   "outputs": [],
   "source": [
    "tree"
   ]
  },
  {
   "cell_type": "code",
   "execution_count": null,
   "id": "483d4f71",
   "metadata": {},
   "outputs": [],
   "source": []
  }
 ],
 "metadata": {
  "kernelspec": {
   "display_name": "Bash",
   "language": "bash",
   "name": "bash"
  },
  "language_info": {
   "codemirror_mode": "shell",
   "file_extension": ".sh",
   "mimetype": "text/x-sh",
   "name": "bash"
  }
 },
 "nbformat": 4,
 "nbformat_minor": 5
}
